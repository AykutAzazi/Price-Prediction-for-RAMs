{
 "cells": [
  {
   "cell_type": "code",
   "execution_count": null,
   "metadata": {},
   "outputs": [],
   "source": [
    "!pip install ycimpute\n",
    "pip3 install html5lib\n",
    "pip3 install lxml"
   ]
  },
  {
   "cell_type": "code",
   "execution_count": null,
   "metadata": {},
   "outputs": [],
   "source": [
    "import numpy as np\n",
    "import pandas as pd\n",
    "import requests\n",
    "import re\n",
    "import matplotlib.pyplot as plt\n",
    "import seaborn as sns\n",
    "from sklearn.model_selection import train_test_split, GridSearchCV,cross_val_score\n",
    "from sklearn.metrics import mean_squared_error, r2_score\n",
    "import matplotlib.pyplot as plt\n",
    "from sklearn.preprocessing import scale\n",
    "from sklearn.metrics import mean_squared_error, r2_score\n",
    "from sklearn.metrics import mean_absolute_error\n",
    "from sklearn import model_selection\n",
    "from sklearn.linear_model import LinearRegression, Ridge, Lasso, LassoCV, RidgeCV, ElasticNet\n",
    "from sklearn.preprocessing import StandardScaler, PolynomialFeatures\n",
    "from sklearn.model_selection import KFold\n",
    "from sklearn.metrics import confusion_matrix, accuracy_score, classification_report\n",
    "from sklearn.linear_model import LinearRegression\n",
    "from sklearn.cross_decomposition import PLSRegression, PLSSVD\n",
    "from sklearn.tree import DecisionTreeRegressor, DecisionTreeClassifier\n",
    "from sklearn.preprocessing import StandardScaler, PolynomialFeatures\n",
    "from sklearn.model_selection import train_test_split, cross_val_score, cross_val_predict\n",
    "from sklearn.neighbors import KNeighborsRegressor\n",
    "from sklearn.ensemble import BaggingRegressor\n",
    "from ycimpute.imputer import knnimput\n",
    "import statsmodels.api as sm\n",
    "from sklearn.decomposition import PCA\n",
    "from sklearn.preprocessing import scale \n",
    "from time import sleep\n",
    "from random import randint\n",
    "from warnings import filterwarnings\n",
    "filterwarnings('ignore')"
   ]
  },
  {
   "cell_type": "code",
   "execution_count": null,
   "metadata": {},
   "outputs": [],
   "source": [
    "from bs4 import BeautifulSoup as bs"
   ]
  },
  {
   "cell_type": "code",
   "execution_count": null,
   "metadata": {},
   "outputs": [],
   "source": [
    "ram_list = []\n",
    "\n",
    "a = 1\n",
    "while a<=50:\n",
    "    r = requests.get(\"https://www.n11.com/bilgisayar/bilgisayar-bilesenleri/bellek-ram?q=ram&pg=\"+str(a)+\"\")\n",
    "    soup = bs(r.content,\"html.parser\")\n",
    "    st1 = soup.find(\"section\",attrs={\"class\":\"group listingGroup resultListGroup import-search-view\"})\n",
    "    st2 = st1.find_all(\"div\",attrs={\"class\":\"columnContent\"})\n",
    "    sleep(randint(1,2))\n",
    "    \n",
    "    for details in st2:\n",
    "        link = details.a.get(\"href\")\n",
    "        r1 = requests.get(link)\n",
    "        soup1 = bs(r1.content,\"html.parser\")\n",
    "        sleep(randint(1,2))\n",
    "        brand = soup1.find(\"h1\",attrs={\"class\":\"proName\"}).text.strip()\n",
    "        price = soup1.div.find(\"input\",attrs={\"class\":\"skuPrice\"})\n",
    "        try:\n",
    "            price = soup1.find('input', {'id': 'skuPrice'}).get('value')\n",
    "            price = price.replace(\",\", \"\")\n",
    "            price = price.replace(\".\", \"\")\n",
    "            \n",
    "        except:\n",
    "            pass\n",
    "        \n",
    "        abc = soup1.find_all(\"li\",attrs={\"class\":\"unf-prop-list-item\"})\n",
    "        for specs in abc:\n",
    "            if specs.find(\"p\",attrs={\"class\":\"unf-prop-list-title\"}).text == \"Bellek Kapasitesi\":\n",
    "                memory = specs.find(\"p\",attrs={\"class\":\"unf-prop-list-prop\"}).text\n",
    "                \n",
    "            elif specs.find(\"p\",attrs={\"class\":\"unf-prop-list-title\"}).text == \"Bellek Türü\":\n",
    "                memory_type = specs.find(\"p\",attrs={\"class\":\"unf-prop-list-prop\"}).text\n",
    "                \n",
    "            elif specs.find(\"p\",attrs={\"class\":\"unf-prop-list-title\"}).text == \"Bellek Hızı\":\n",
    "                speed = specs.find(\"p\",attrs={\"class\":\"unf-prop-list-prop\"}).text\n",
    "                \n",
    "            elif specs.find(\"p\",attrs={\"class\":\"unf-prop-list-title\"}).text == \"Cas Hızı\":\n",
    "                cl = specs.find(\"p\",attrs={\"class\":\"unf-prop-list-prop\"}).text\n",
    "                \n",
    "        \n",
    "        \n",
    "        ram_list.append([brand,memory,memory_type,speed,cl,price])\n",
    "    a = a+1"
   ]
  },
  {
   "cell_type": "code",
   "execution_count": null,
   "metadata": {},
   "outputs": [],
   "source": [
    "df = pd.DataFrame(ram_list)\n",
    "df.columns=[\"Brand\",\"Memory_GB\",\"Memory_Type\",\"Speed_MHz\",\"CL\",\"Price_TL\"]\n",
    "df"
   ]
  },
  {
   "cell_type": "code",
   "execution_count": null,
   "metadata": {},
   "outputs": [],
   "source": [
    "df.head()"
   ]
  },
  {
   "cell_type": "code",
   "execution_count": null,
   "metadata": {},
   "outputs": [],
   "source": [
    "df.info()"
   ]
  },
  {
   "cell_type": "code",
   "execution_count": null,
   "metadata": {},
   "outputs": [],
   "source": [
    "df.Memory_GB.unique()"
   ]
  },
  {
   "cell_type": "code",
   "execution_count": null,
   "metadata": {},
   "outputs": [],
   "source": [
    "df.CL.unique()"
   ]
  },
  {
   "cell_type": "code",
   "execution_count": null,
   "metadata": {},
   "outputs": [],
   "source": [
    "df.isnull().sum()"
   ]
  },
  {
   "cell_type": "code",
   "execution_count": null,
   "metadata": {},
   "outputs": [],
   "source": [
    "df1 = df.copy()\n",
    "df1"
   ]
  },
  {
   "cell_type": "code",
   "execution_count": null,
   "metadata": {},
   "outputs": [],
   "source": [
    "df1['Memory_GB'] = df1['Memory_GB'].str.replace(\"GB\",\"\")\n",
    "df1['Speed_MHz'] = df1['Speed_MHz'].str.replace(\"MHz\",\"\")\n",
    "df1['CL'] = df1['CL'].str.replace(\"CL\",\"\")"
   ]
  },
  {
   "cell_type": "code",
   "execution_count": null,
   "metadata": {},
   "outputs": [],
   "source": [
    "df1.head()"
   ]
  },
  {
   "cell_type": "code",
   "execution_count": null,
   "metadata": {},
   "outputs": [],
   "source": [
    "df1.Speed_MHz = df1.Speed_MHz.astype(int)\n",
    "df1.CL = df1.CL.astype(int)\n",
    "df1.Memory_GB = df1.Memory_GB.astype(int)\n",
    "df1.Price_TL = df1.Price_TL.astype(float)"
   ]
  },
  {
   "cell_type": "code",
   "execution_count": null,
   "metadata": {},
   "outputs": [],
   "source": [
    "df1.info()"
   ]
  },
  {
   "cell_type": "code",
   "execution_count": null,
   "metadata": {},
   "outputs": [],
   "source": [
    "df1['Price_TL'] = df1['Price_TL']/100\n",
    "df1['Price_TL']"
   ]
  },
  {
   "cell_type": "code",
   "execution_count": null,
   "metadata": {},
   "outputs": [],
   "source": [
    "df1"
   ]
  },
  {
   "cell_type": "code",
   "execution_count": null,
   "metadata": {},
   "outputs": [],
   "source": [
    "df1.to_csv('df22.csv')"
   ]
  },
  {
   "cell_type": "code",
   "execution_count": null,
   "metadata": {},
   "outputs": [],
   "source": [
    "df1.drop('Brand', axis=1, inplace=True)\n"
   ]
  },
  {
   "cell_type": "code",
   "execution_count": null,
   "metadata": {},
   "outputs": [],
   "source": [
    "df1[df1.Memory_GB > 127]"
   ]
  },
  {
   "cell_type": "code",
   "execution_count": null,
   "metadata": {},
   "outputs": [],
   "source": [
    "df1.drop(df1[df1['Memory_GB'] > 127].index, inplace = True)\n",
    "df1.drop(df1[df1['Memory_GB'] < 4].index, inplace = True)\n",
    "df1"
   ]
  },
  {
   "cell_type": "code",
   "execution_count": null,
   "metadata": {},
   "outputs": [],
   "source": [
    "df1.Memory_Type.unique()"
   ]
  },
  {
   "cell_type": "code",
   "execution_count": null,
   "metadata": {},
   "outputs": [],
   "source": [
    "abcd = df1[(df1['Memory_Type'] == ' DDR4-2666')].index\n",
    "df1.drop(abcd, inplace = True)\n",
    "df1.Memory_Type.unique()"
   ]
  },
  {
   "cell_type": "code",
   "execution_count": null,
   "metadata": {},
   "outputs": [],
   "source": [
    "df1 = pd.get_dummies(df1, columns = [\"Memory_Type\"], prefix = [\"Memory_Type\"])"
   ]
  },
  {
   "cell_type": "code",
   "execution_count": null,
   "metadata": {},
   "outputs": [],
   "source": [
    "df1.head()"
   ]
  },
  {
   "cell_type": "code",
   "execution_count": null,
   "metadata": {},
   "outputs": [],
   "source": [
    "df1 = df1.rename(columns={'Memory_Type_ DDR3': 'DDR3', 'Memory_Type_ DDR3L': 'DDR3L', 'Memory_Type_ DDR4': 'DDR4', 'Memory_Type_ GDDR4': 'GDDR4'})\n",
    "df1.head()"
   ]
  },
  {
   "cell_type": "code",
   "execution_count": null,
   "metadata": {},
   "outputs": [],
   "source": [
    "df1.info()"
   ]
  },
  {
   "cell_type": "code",
   "execution_count": null,
   "metadata": {},
   "outputs": [],
   "source": [
    "var_names = list(df1)\n",
    "n_df = np.array(df1)\n",
    "df1 = knnimput.KNN(k = 4).complete(n_df)\n",
    "df1 = pd.DataFrame(dff, columns = var_names)\n",
    "df1.isnull().sum()"
   ]
  },
  {
   "cell_type": "code",
   "execution_count": null,
   "metadata": {},
   "outputs": [],
   "source": [
    "df1.info()"
   ]
  },
  {
   "cell_type": "code",
   "execution_count": null,
   "metadata": {},
   "outputs": [],
   "source": [
    "df1.Speed_MHz = df1.Speed_MHz.astype(int)\n",
    "df1.CL = df1.CL.astype(int)\n",
    "df1.Memory_GB = df1.Memory_GB.astype(int)\n",
    "df1.DDR3 = df1.DDR3.astype(\"uint8\")\n",
    "df1.DDR3L = df1.DDR3L.astype(\"uint8\")\n",
    "df1.DDR4 = df1.DDR4.astype(\"uint8\")\n",
    "df1.GDDR4 = df1.GDDR4.astype(\"uint8\")"
   ]
  },
  {
   "cell_type": "code",
   "execution_count": null,
   "metadata": {},
   "outputs": [],
   "source": [
    "df1.describe().T"
   ]
  },
  {
   "cell_type": "code",
   "execution_count": null,
   "metadata": {},
   "outputs": [],
   "source": [
    "df1"
   ]
  },
  {
   "cell_type": "code",
   "execution_count": null,
   "metadata": {},
   "outputs": [],
   "source": [
    "df1.to_csv('df1.csv')"
   ]
  },
  {
   "cell_type": "code",
   "execution_count": null,
   "metadata": {},
   "outputs": [],
   "source": [
    "df1 = pd.read_csv('df1.csv', index_col=0)"
   ]
  },
  {
   "cell_type": "code",
   "execution_count": null,
   "metadata": {},
   "outputs": [],
   "source": [
    "df1"
   ]
  },
  {
   "cell_type": "code",
   "execution_count": null,
   "metadata": {},
   "outputs": [],
   "source": [
    "sns.boxplot('Memory_GB', data=df1);"
   ]
  },
  {
   "cell_type": "code",
   "execution_count": null,
   "metadata": {},
   "outputs": [],
   "source": [
    "df1[df1.Memory_GB > 60].info() "
   ]
  },
  {
   "cell_type": "code",
   "execution_count": null,
   "metadata": {},
   "outputs": [],
   "source": [
    "sns.boxplot('Speed_MHz', data=df1);"
   ]
  },
  {
   "cell_type": "code",
   "execution_count": null,
   "metadata": {},
   "outputs": [],
   "source": [
    "df1[df1.Speed_MHz < 1350].info()  "
   ]
  },
  {
   "cell_type": "code",
   "execution_count": null,
   "metadata": {},
   "outputs": [],
   "source": [
    "sns.boxplot('CL', data=df1);"
   ]
  },
  {
   "cell_type": "code",
   "execution_count": null,
   "metadata": {},
   "outputs": [],
   "source": [
    "df1[df1.CL < 12].info()"
   ]
  },
  {
   "cell_type": "code",
   "execution_count": null,
   "metadata": {},
   "outputs": [],
   "source": [
    "sns.pairplot(df1);"
   ]
  },
  {
   "cell_type": "code",
   "execution_count": null,
   "metadata": {},
   "outputs": [],
   "source": [
    "df1.corr()"
   ]
  },
  {
   "cell_type": "code",
   "execution_count": null,
   "metadata": {},
   "outputs": [],
   "source": [
    "X = df1.drop(columns=[\"Price_TL\"]).astype(float)\n",
    "y = df1.loc[:,\"Price_TL\"].astype(float)\n",
    "\n",
    "model = sm.OLS(y, X, data=df1)\n",
    "results = model.fit()\n",
    "results.summary()"
   ]
  },
  {
   "cell_type": "code",
   "execution_count": null,
   "metadata": {},
   "outputs": [],
   "source": [
    "def get_model(X,y):\n",
    "    X, X_test, y, y_test = train_test_split(X, y, test_size=.2, random_state=3)\n",
    "    X_train, X_val, y_train, y_val = train_test_split(X, y, test_size=.25, random_state=3)\n",
    "\n",
    "    #Linear Regression\n",
    "    linear_model = LinearRegression().fit(X_train, y_train)\n",
    "    print(f'Linear Regression train R^2: {linear_model.score(X_train, y_train):.3f}')\n",
    "    print(f'Linear Regression val R^2: {linear_model.score(X_val, y_val):.3f}')\n",
    "    print(f'Linear Regression test R^2: {linear_model.score(X_test, y_test):.3f}')\n",
    "    \n",
    "    #Polinomial Regression\n",
    "    for i in np.arange(2,6,1):\n",
    "        poly = PolynomialFeatures(degree=i) \n",
    "        X_train_poly = poly.fit_transform(X_train.values)\n",
    "        X_val_poly = poly.transform(X_val.values)\n",
    "        X_test_poly = poly.transform(X_test.values)\n",
    "        poly_model = LinearRegression().fit(X_train_poly, y_train)\n",
    "        print(f'Degree {i} Polynomial Regression train R^2: {poly_model.score(X_train_poly, y_train):.3f}')\n",
    "        print(f'Degree {i} Polynomial Regression val R^2: {poly_model.score(X_val_poly, y_val):.3f}')\n",
    "        print(f'Degree {i} Polynomial Regression test R^2: {poly_model.score(X_test_poly, y_test):.3f}')\n",
    "        \n",
    "        #PolyRidge\n",
    "        polyridge_model = Ridge(alpha=0.5).fit(X_train_poly, y_train)\n",
    "        print(f'Degree {i} Ridge Polynomial Regression train R^2: {polyridge_model.score(X_train_poly, y_train):.3f}')\n",
    "        print(f'Degree {i} Ridge Polynomial Regression val R^2: {polyridge_model.score(X_val_poly, y_val):.3f}')\n",
    "        print(f'Degree {i} Ridge Polynomial Regression test R^2: {polyridge_model.score(X_test_poly, y_test):.3f}')\n",
    "    \n",
    "    #Ridge\n",
    "    ridge_model = Ridge(alpha=0.5).fit(X_train, y_train)\n",
    "    print(f'Ridge Regression train R^2: {ridge_model.score(X_train, y_train):.3f}')\n",
    "    print(f'Ridge Regression val R^2: {ridge_model.score(X_val, y_val):.3f}')\n",
    "    print(f'Ridge Regression test R^2: {ridge_model.score(X_test, y_test):.3f}')\n",
    "    \n",
    "    #Lasso\n",
    "    lasso_model = Lasso(alpha = 0.5).fit(X_train, y_train)\n",
    "    print(f'Lasso Regression train R^2: {lasso_model.score(X_train, y_train):.3f}')\n",
    "    print(f'Lasso Regression val R^2: {lasso_model.score(X_val, y_val):.3f}')\n",
    "    print(f'Lasso Regression test R^2: {lasso_model.score(X_test, y_test):.3f}')\n",
    "    \n",
    "    #ElasticNet\n",
    "    enet_model = ElasticNet().fit(X_train, y_train)\n",
    "    print(f'ElasticNet Regression train R^2: {enet_model.score(X_train, y_train):.3f}')\n",
    "    print(f'ElasticNet Regression val R^2: {enet_model.score(X_val, y_val):.3f}')\n",
    "    print(f'ElasticNet Regression test R^2: {enet_model.score(X_test, y_test):.3f}')\n",
    "    \n",
    "    #PLS\n",
    "    pls_model = PLSRegression().fit(X_train, y_train)\n",
    "    print(f'PLS Regression train R^2: {pls_model.score(X_train, y_train):.3f}')\n",
    "    print(f'PLS Regression val R^2: {pls_model.score(X_val, y_val):.3f}')\n",
    "    print(f'PLS Regression test R^2: {pls_model.score(X_test, y_test):.3f}')\n",
    "    \n",
    "    #PCR\n",
    "    pca = PCA()\n",
    "    X_reduced_train = pca.fit_transform(scale(X_train))\n",
    "    np.cumsum(np.round(pca.explained_variance_ratio_, decimals = 4)*100)[0:5]\n",
    "    lm = LinearRegression()\n",
    "    pcr_model = lm.fit(X_reduced_train, y_train)\n",
    "    print(f'PCR Regression train R^2: {pcr_model.score(X_reduced_train, y_train):.3f}')\n",
    "    print(f'PCR Regression val R^2: {pcr_model.score(X_val, y_val):.3f}')\n",
    "    print(f'PCR Regression test R^2: {pcr_model.score(X_test, y_test):.3f}')"
   ]
  },
  {
   "cell_type": "code",
   "execution_count": null,
   "metadata": {},
   "outputs": [],
   "source": [
    "get_model(X,y)"
   ]
  },
  {
   "cell_type": "code",
   "execution_count": null,
   "metadata": {},
   "outputs": [],
   "source": [
    "def cross_vals(X,y):\n",
    "    \n",
    "    #test\n",
    "    X, X_test, y, y_test = train_test_split(X, y, test_size = .25, random_state = 3)\n",
    "    \n",
    "    #train val \n",
    "    X_train, X_val, y_train, y_val = train_test_split(X, y, test_size = .2, random_state = 3)\n",
    "    \n",
    "    #LinearCV\n",
    "    lm = LinearRegression()\n",
    "    linear_tuned = lm.fit(X_train, y_train)\n",
    "    result_linear_tuned = cross_val_score(lm, X_train, y_train, cv=7).mean()\n",
    "    print(f'Linear Regression CV train : {cross_val_score(lm, X_train, y_train, cv=7).mean()}')\n",
    "    \n",
    "    #Polinomial Regression\n",
    "    for i in np.arange(2,6,1):\n",
    "        poly = PolynomialFeatures(degree=i) \n",
    "        X_train_poly = poly.fit_transform(X_train.values)\n",
    "        X_val_poly = poly.transform(X_val.values)\n",
    "        X_test_poly = poly.transform(X_test.values)\n",
    "        lm_poly = LinearRegression()\n",
    "        poly_tuned = lm_poly.fit(X_train_poly, y_train)\n",
    "        result_poly_tuned = cross_val_score(lm_poly, X_train_poly, y_train, cv=7).mean()\n",
    "        print(f'Degree {i} Polynomial CV train : {cross_val_score(lm_poly, X_train_poly, y_train, cv=7).mean()}')\n",
    "    \n",
    "    #PolyRidge \n",
    "        lm_poly_ri = Ridge(alpha=0.5)\n",
    "        polyridge_tuned = lm_poly_ri.fit(X_train_poly, y_train)\n",
    "        result_polyridge_tuned = cross_val_score(lm_poly_ri, X_train_poly, y_train, cv=7).mean()\n",
    "        print(f'Degree {i} Polynomial Ridge CV train : {cross_val_score(lm_poly_ri, X_train_poly, y_train, cv=7).mean()}')\n",
    "    \n",
    "    #Ridge\n",
    "    lm_rid = Ridge(alpha=0.5)\n",
    "    ridge_tuned = lm_rid.fit(X_train, y_train)\n",
    "    result_ridge_tuned = cross_val_score(lm_rid, X_train, y_train, cv=7).mean()\n",
    "    print(f'Ridge CV train : {cross_val_score(lm_rid, X_train, y_train, cv=7).mean()}')\n",
    "   \n",
    "    #Lasso\n",
    "    lm_las = Lasso(alpha=0.5)\n",
    "    lasso_tuned = lm_las.fit(X_train, y_train)\n",
    "    result_lasso_tuned = cross_val_score(lm_las, X_train, y_train, cv=7).mean()\n",
    "    print(f'Lasso CV train : {cross_val_score(lm_las, X_train, y_train, cv=7).mean()}')\n",
    "    \n",
    "    #ElasticNet\n",
    "    en_reg = ElasticNet()\n",
    "    enet_tuned = en_reg.fit(X_train, y_train)\n",
    "    result_enet_tuned = cross_val_score(en_reg, X_train, y_train, cv=7).mean()\n",
    "    print(f'ElasticNet CV train : {cross_val_score(en_reg, X_train, y_train, cv=7).mean()}')\n",
    "    \n",
    "    #PLS\n",
    "    pls_reg = PLSRegression()\n",
    "    pls_tuned = pls_reg.fit(X_train, y_train)\n",
    "    result_pls_tuned = cross_val_score(pls_reg, X_train, y_train, cv=7).mean()\n",
    "    print(f'PLS Regression CV train : {cross_val_score(pls_reg, X_train, y_train, cv=7).mean()}')\n",
    "    \n",
    "    #PCR\n",
    "    pca = PCA()\n",
    "    X_reduced_train = pca.fit_transform(scale(X_train))\n",
    "    np.cumsum(np.round(pca.explained_variance_ratio_, decimals = 4)*100)[0:5]\n",
    "    lm = LinearRegression()\n",
    "    pcr_tuned = lm.fit(X_reduced_train, y_train)\n",
    "    result_pcr_tuned = cross_val_score(lm, X_reduced_train, y_train, cv=7).mean()\n",
    "    print(f'PCR Regression CV train : {cross_val_score(lm, X_reduced_train, y_train, cv=7).mean()}')\n",
    "    \n",
    "                   "
   ]
  },
  {
   "cell_type": "code",
   "execution_count": null,
   "metadata": {},
   "outputs": [],
   "source": [
    "cross_vals(X,y)"
   ]
  },
  {
   "cell_type": "code",
   "execution_count": null,
   "metadata": {},
   "outputs": [],
   "source": [
    "X = df1.drop(columns=[\"Price_TL\", \"CL\"]).astype(float)\n",
    "y = df1.loc[:,\"Price_TL\"].astype(float)\n",
    "\n",
    "model = sm.OLS(y, X, data=df1)\n",
    "results = model.fit()\n",
    "results.summary()"
   ]
  },
  {
   "cell_type": "code",
   "execution_count": null,
   "metadata": {},
   "outputs": [],
   "source": [
    "get_model(X,y)"
   ]
  },
  {
   "cell_type": "code",
   "execution_count": null,
   "metadata": {},
   "outputs": [],
   "source": [
    "cross_vals(X,y)"
   ]
  },
  {
   "cell_type": "code",
   "execution_count": null,
   "metadata": {},
   "outputs": [],
   "source": [
    "X = df1.drop(columns=[\"Price_TL\", \"Speed_MHz\"]).astype(float)\n",
    "y = df1.loc[:,\"Price_TL\"].astype(float)\n",
    "\n",
    "model = sm.OLS(y, X, data=df1)\n",
    "results = model.fit()\n",
    "results.summary()"
   ]
  },
  {
   "cell_type": "code",
   "execution_count": null,
   "metadata": {},
   "outputs": [],
   "source": [
    "get_model(X,y)"
   ]
  },
  {
   "cell_type": "code",
   "execution_count": null,
   "metadata": {},
   "outputs": [],
   "source": [
    "cross_vals(X,y)"
   ]
  },
  {
   "cell_type": "code",
   "execution_count": null,
   "metadata": {},
   "outputs": [],
   "source": [
    "X = df1.drop(columns=[\"Price_TL\", \"Memory_GB\"]).astype(float)\n",
    "y = df1.loc[:,\"Price_TL\"].astype(float)\n",
    "\n",
    "model = sm.OLS(y, X, data=df1)\n",
    "results = model.fit()\n",
    "results.summary()"
   ]
  },
  {
   "cell_type": "code",
   "execution_count": null,
   "metadata": {},
   "outputs": [],
   "source": [
    "X = df1.drop(columns=[\"Price_TL\", \"CL\", \"DDR3\", \"DDR3L\", \"DDR4\", \"GDDR4\"]).astype(float)\n",
    "y = df1.loc[:,\"Price_TL\"].astype(float)\n",
    "\n"
   ]
  },
  {
   "cell_type": "code",
   "execution_count": null,
   "metadata": {},
   "outputs": [],
   "source": [
    "model = sm.OLS(y, X, data=df1)\n",
    "results = model.fit()\n",
    "results.summary()"
   ]
  },
  {
   "cell_type": "code",
   "execution_count": null,
   "metadata": {},
   "outputs": [],
   "source": [
    "get_model(X,y)"
   ]
  },
  {
   "cell_type": "code",
   "execution_count": null,
   "metadata": {},
   "outputs": [],
   "source": [
    "cross_vals(X,y)"
   ]
  },
  {
   "cell_type": "code",
   "execution_count": null,
   "metadata": {},
   "outputs": [],
   "source": [
    "def MAE(X,y):\n",
    "    \n",
    "    #test\n",
    "    X, X_test, y, y_test = train_test_split(X, y, test_size = .25, random_state = 3)\n",
    "    \n",
    "    #train val\n",
    "    X_train, X_val, y_train, y_val = train_test_split(X, y, test_size = .2, random_state = 3)\n",
    "    \n",
    "    #Linear\n",
    "    lm = LinearRegression()\n",
    "    lm.fit(X_train, y_train)\n",
    "    y_pred_lm = lm.predict(X_test)\n",
    "    print(f'Linear Regression MAE : {mean_absolute_error(y_test, y_pred_lm)}')\n",
    "    \n",
    "    #Poly\n",
    "    for i in np.arange(2,4,1):\n",
    "        poly = PolynomialFeatures(degree=i) \n",
    "        X_train_poly = poly.fit_transform(X_train.values)\n",
    "        X_val_poly = poly.transform(X_val.values)\n",
    "        X_test_poly = poly.transform(X_test.values)\n",
    "        lm_poly = LinearRegression()\n",
    "        lm_poly.fit(X_train_poly, y_train)\n",
    "        y_pred = lm_poly.predict(X_test_poly)\n",
    "        print(f'Degree {i} Polynomial MAE : {mean_absolute_error(y_test, y_pred)}')\n",
    "    \n",
    "    #PolyRidge\n",
    "        lm_poly_ri = Ridge(alpha=0.5)\n",
    "        lm_poly_ri.fit(X_train_poly, y_train)\n",
    "        y_pred_polyrid = lm_poly_ri.predict(X_test_poly)\n",
    "        print(f'Degree {i} Poly Ridge MAE : {mean_absolute_error(y_test, y_pred_polyrid)}')\n",
    "\n",
    "    #Ridge\n",
    "    lm_reg = Ridge(alpha=0.5)\n",
    "    lm_reg.fit(X_train, y_train)\n",
    "    y_pred_ri = lm_reg.predict(X_test)\n",
    "    print(f'Ridge MAE : {mean_absolute_error(y_test, y_pred_ri)}')\n",
    "    \n",
    "    #Lasso\n",
    "    lm_las = Lasso(alpha=0.5)\n",
    "    lm_las.fit(X_train, y_train)\n",
    "    y_pred_la = lm_las.predict(X_test)\n",
    "    print(f'Lasso MAE : {mean_absolute_error(y_test, y_pred_la)}')\n",
    "    \n",
    "    #ElasticNet\n",
    "    en_reg = ElasticNet()\n",
    "    enet_tuned = en_reg.fit(X_train, y_train)\n",
    "    y_pred_enet = en_reg.predict(X_test)\n",
    "    print(f'ElasticNet MAE : {mean_absolute_error(y_test, y_pred_enet)}')\n",
    "    \n",
    "    #PLS\n",
    "    pls_reg = PLSRegression()\n",
    "    pls_tuned = pls_reg.fit(X_train, y_train)\n",
    "    y_pred_pls = pls_reg.predict(X_test)\n",
    "    print(f'PLS MAE : {mean_absolute_error(y_test, y_pred_pls)}')\n",
    "    \n",
    "    #PCR\n",
    "    pca = PCA()\n",
    "    X_reduced_train = pca.fit_transform(scale(X_train))\n",
    "    np.cumsum(np.round(pca.explained_variance_ratio_, decimals = 4)*100)[0:5]\n",
    "    lm = LinearRegression()\n",
    "    pcr_tuned = lm.fit(X_reduced_train, y_train)\n",
    "    y_pred_pcr = lm.predict(X_test)\n",
    "    print(f'PCR MAE : {mean_absolute_error(y_test, y_pred_pcr)}')\n"
   ]
  },
  {
   "cell_type": "code",
   "execution_count": null,
   "metadata": {},
   "outputs": [],
   "source": [
    "MAE(X,y)"
   ]
  },
  {
   "cell_type": "code",
   "execution_count": null,
   "metadata": {},
   "outputs": [],
   "source": []
  },
  {
   "cell_type": "code",
   "execution_count": null,
   "metadata": {},
   "outputs": [],
   "source": []
  },
  {
   "cell_type": "code",
   "execution_count": null,
   "metadata": {},
   "outputs": [],
   "source": []
  },
  {
   "cell_type": "code",
   "execution_count": null,
   "metadata": {},
   "outputs": [],
   "source": []
  },
  {
   "cell_type": "code",
   "execution_count": null,
   "metadata": {},
   "outputs": [],
   "source": []
  },
  {
   "cell_type": "code",
   "execution_count": null,
   "metadata": {},
   "outputs": [],
   "source": []
  },
  {
   "cell_type": "code",
   "execution_count": null,
   "metadata": {},
   "outputs": [],
   "source": []
  },
  {
   "cell_type": "code",
   "execution_count": null,
   "metadata": {},
   "outputs": [],
   "source": []
  },
  {
   "cell_type": "code",
   "execution_count": null,
   "metadata": {},
   "outputs": [],
   "source": []
  },
  {
   "cell_type": "code",
   "execution_count": null,
   "metadata": {},
   "outputs": [],
   "source": []
  },
  {
   "cell_type": "code",
   "execution_count": null,
   "metadata": {},
   "outputs": [],
   "source": []
  },
  {
   "cell_type": "code",
   "execution_count": null,
   "metadata": {},
   "outputs": [],
   "source": []
  },
  {
   "cell_type": "code",
   "execution_count": null,
   "metadata": {},
   "outputs": [],
   "source": []
  },
  {
   "cell_type": "code",
   "execution_count": null,
   "metadata": {},
   "outputs": [],
   "source": []
  },
  {
   "cell_type": "code",
   "execution_count": null,
   "metadata": {},
   "outputs": [],
   "source": []
  },
  {
   "cell_type": "code",
   "execution_count": null,
   "metadata": {},
   "outputs": [],
   "source": []
  },
  {
   "cell_type": "code",
   "execution_count": null,
   "metadata": {},
   "outputs": [],
   "source": []
  },
  {
   "cell_type": "code",
   "execution_count": null,
   "metadata": {},
   "outputs": [],
   "source": []
  },
  {
   "cell_type": "code",
   "execution_count": null,
   "metadata": {},
   "outputs": [],
   "source": []
  },
  {
   "cell_type": "code",
   "execution_count": null,
   "metadata": {},
   "outputs": [],
   "source": []
  },
  {
   "cell_type": "code",
   "execution_count": null,
   "metadata": {},
   "outputs": [],
   "source": []
  },
  {
   "cell_type": "code",
   "execution_count": null,
   "metadata": {},
   "outputs": [],
   "source": []
  },
  {
   "cell_type": "code",
   "execution_count": null,
   "metadata": {},
   "outputs": [],
   "source": []
  },
  {
   "cell_type": "code",
   "execution_count": null,
   "metadata": {},
   "outputs": [],
   "source": []
  },
  {
   "cell_type": "code",
   "execution_count": null,
   "metadata": {},
   "outputs": [],
   "source": []
  },
  {
   "cell_type": "code",
   "execution_count": null,
   "metadata": {},
   "outputs": [],
   "source": []
  },
  {
   "cell_type": "code",
   "execution_count": null,
   "metadata": {},
   "outputs": [],
   "source": []
  },
  {
   "cell_type": "code",
   "execution_count": null,
   "metadata": {},
   "outputs": [],
   "source": []
  },
  {
   "cell_type": "code",
   "execution_count": null,
   "metadata": {},
   "outputs": [],
   "source": []
  },
  {
   "cell_type": "code",
   "execution_count": null,
   "metadata": {},
   "outputs": [],
   "source": []
  },
  {
   "cell_type": "code",
   "execution_count": null,
   "metadata": {},
   "outputs": [],
   "source": []
  },
  {
   "cell_type": "code",
   "execution_count": null,
   "metadata": {},
   "outputs": [],
   "source": []
  },
  {
   "cell_type": "code",
   "execution_count": null,
   "metadata": {},
   "outputs": [],
   "source": []
  },
  {
   "cell_type": "code",
   "execution_count": null,
   "metadata": {},
   "outputs": [],
   "source": []
  },
  {
   "cell_type": "code",
   "execution_count": null,
   "metadata": {},
   "outputs": [],
   "source": []
  },
  {
   "cell_type": "code",
   "execution_count": null,
   "metadata": {},
   "outputs": [],
   "source": []
  },
  {
   "cell_type": "code",
   "execution_count": null,
   "metadata": {},
   "outputs": [],
   "source": []
  },
  {
   "cell_type": "code",
   "execution_count": null,
   "metadata": {},
   "outputs": [],
   "source": []
  },
  {
   "cell_type": "code",
   "execution_count": null,
   "metadata": {},
   "outputs": [],
   "source": []
  },
  {
   "cell_type": "code",
   "execution_count": null,
   "metadata": {},
   "outputs": [],
   "source": []
  },
  {
   "cell_type": "code",
   "execution_count": null,
   "metadata": {},
   "outputs": [],
   "source": []
  },
  {
   "cell_type": "code",
   "execution_count": null,
   "metadata": {},
   "outputs": [],
   "source": []
  },
  {
   "cell_type": "code",
   "execution_count": null,
   "metadata": {},
   "outputs": [],
   "source": []
  },
  {
   "cell_type": "code",
   "execution_count": null,
   "metadata": {},
   "outputs": [],
   "source": []
  },
  {
   "cell_type": "code",
   "execution_count": null,
   "metadata": {},
   "outputs": [],
   "source": []
  },
  {
   "cell_type": "code",
   "execution_count": null,
   "metadata": {},
   "outputs": [],
   "source": []
  },
  {
   "cell_type": "code",
   "execution_count": null,
   "metadata": {},
   "outputs": [],
   "source": []
  },
  {
   "cell_type": "code",
   "execution_count": null,
   "metadata": {},
   "outputs": [],
   "source": []
  },
  {
   "cell_type": "code",
   "execution_count": null,
   "metadata": {},
   "outputs": [],
   "source": []
  },
  {
   "cell_type": "code",
   "execution_count": null,
   "metadata": {},
   "outputs": [],
   "source": []
  },
  {
   "cell_type": "code",
   "execution_count": null,
   "metadata": {},
   "outputs": [],
   "source": []
  },
  {
   "cell_type": "code",
   "execution_count": null,
   "metadata": {},
   "outputs": [],
   "source": []
  },
  {
   "cell_type": "code",
   "execution_count": null,
   "metadata": {},
   "outputs": [],
   "source": []
  },
  {
   "cell_type": "code",
   "execution_count": null,
   "metadata": {},
   "outputs": [],
   "source": []
  },
  {
   "cell_type": "code",
   "execution_count": null,
   "metadata": {},
   "outputs": [],
   "source": []
  },
  {
   "cell_type": "code",
   "execution_count": null,
   "metadata": {},
   "outputs": [],
   "source": []
  },
  {
   "cell_type": "code",
   "execution_count": null,
   "metadata": {},
   "outputs": [],
   "source": []
  },
  {
   "cell_type": "code",
   "execution_count": null,
   "metadata": {},
   "outputs": [],
   "source": []
  },
  {
   "cell_type": "code",
   "execution_count": null,
   "metadata": {},
   "outputs": [],
   "source": []
  },
  {
   "cell_type": "code",
   "execution_count": null,
   "metadata": {},
   "outputs": [],
   "source": []
  },
  {
   "cell_type": "code",
   "execution_count": null,
   "metadata": {},
   "outputs": [],
   "source": []
  },
  {
   "cell_type": "code",
   "execution_count": null,
   "metadata": {},
   "outputs": [],
   "source": []
  },
  {
   "cell_type": "code",
   "execution_count": null,
   "metadata": {},
   "outputs": [],
   "source": []
  },
  {
   "cell_type": "code",
   "execution_count": null,
   "metadata": {},
   "outputs": [],
   "source": []
  },
  {
   "cell_type": "code",
   "execution_count": null,
   "metadata": {},
   "outputs": [],
   "source": []
  },
  {
   "cell_type": "code",
   "execution_count": null,
   "metadata": {},
   "outputs": [],
   "source": []
  },
  {
   "cell_type": "code",
   "execution_count": null,
   "metadata": {},
   "outputs": [],
   "source": []
  },
  {
   "cell_type": "code",
   "execution_count": null,
   "metadata": {},
   "outputs": [],
   "source": []
  },
  {
   "cell_type": "code",
   "execution_count": null,
   "metadata": {},
   "outputs": [],
   "source": []
  },
  {
   "cell_type": "code",
   "execution_count": null,
   "metadata": {},
   "outputs": [],
   "source": []
  },
  {
   "cell_type": "code",
   "execution_count": null,
   "metadata": {},
   "outputs": [],
   "source": []
  },
  {
   "cell_type": "code",
   "execution_count": null,
   "metadata": {},
   "outputs": [],
   "source": []
  },
  {
   "cell_type": "code",
   "execution_count": null,
   "metadata": {},
   "outputs": [],
   "source": []
  },
  {
   "cell_type": "code",
   "execution_count": null,
   "metadata": {},
   "outputs": [],
   "source": []
  },
  {
   "cell_type": "code",
   "execution_count": null,
   "metadata": {},
   "outputs": [],
   "source": []
  },
  {
   "cell_type": "code",
   "execution_count": null,
   "metadata": {},
   "outputs": [],
   "source": []
  },
  {
   "cell_type": "code",
   "execution_count": null,
   "metadata": {},
   "outputs": [],
   "source": []
  },
  {
   "cell_type": "code",
   "execution_count": null,
   "metadata": {},
   "outputs": [],
   "source": []
  },
  {
   "cell_type": "code",
   "execution_count": null,
   "metadata": {},
   "outputs": [],
   "source": []
  },
  {
   "cell_type": "code",
   "execution_count": null,
   "metadata": {},
   "outputs": [],
   "source": []
  },
  {
   "cell_type": "code",
   "execution_count": null,
   "metadata": {},
   "outputs": [],
   "source": []
  },
  {
   "cell_type": "code",
   "execution_count": null,
   "metadata": {},
   "outputs": [],
   "source": []
  },
  {
   "cell_type": "code",
   "execution_count": null,
   "metadata": {},
   "outputs": [],
   "source": []
  },
  {
   "cell_type": "code",
   "execution_count": null,
   "metadata": {},
   "outputs": [],
   "source": []
  },
  {
   "cell_type": "code",
   "execution_count": null,
   "metadata": {},
   "outputs": [],
   "source": []
  },
  {
   "cell_type": "code",
   "execution_count": null,
   "metadata": {},
   "outputs": [],
   "source": []
  },
  {
   "cell_type": "code",
   "execution_count": null,
   "metadata": {},
   "outputs": [],
   "source": []
  },
  {
   "cell_type": "code",
   "execution_count": null,
   "metadata": {},
   "outputs": [],
   "source": []
  },
  {
   "cell_type": "code",
   "execution_count": null,
   "metadata": {},
   "outputs": [],
   "source": []
  },
  {
   "cell_type": "code",
   "execution_count": null,
   "metadata": {},
   "outputs": [],
   "source": []
  },
  {
   "cell_type": "code",
   "execution_count": null,
   "metadata": {},
   "outputs": [],
   "source": []
  },
  {
   "cell_type": "code",
   "execution_count": null,
   "metadata": {},
   "outputs": [],
   "source": []
  },
  {
   "cell_type": "code",
   "execution_count": null,
   "metadata": {},
   "outputs": [],
   "source": []
  },
  {
   "cell_type": "code",
   "execution_count": null,
   "metadata": {},
   "outputs": [],
   "source": []
  },
  {
   "cell_type": "code",
   "execution_count": null,
   "metadata": {},
   "outputs": [],
   "source": []
  },
  {
   "cell_type": "code",
   "execution_count": null,
   "metadata": {},
   "outputs": [],
   "source": []
  },
  {
   "cell_type": "code",
   "execution_count": null,
   "metadata": {},
   "outputs": [],
   "source": []
  },
  {
   "cell_type": "code",
   "execution_count": null,
   "metadata": {},
   "outputs": [],
   "source": []
  },
  {
   "cell_type": "code",
   "execution_count": null,
   "metadata": {},
   "outputs": [],
   "source": []
  },
  {
   "cell_type": "code",
   "execution_count": null,
   "metadata": {},
   "outputs": [],
   "source": []
  },
  {
   "cell_type": "code",
   "execution_count": null,
   "metadata": {},
   "outputs": [],
   "source": []
  },
  {
   "cell_type": "code",
   "execution_count": null,
   "metadata": {},
   "outputs": [],
   "source": []
  },
  {
   "cell_type": "code",
   "execution_count": null,
   "metadata": {},
   "outputs": [],
   "source": []
  },
  {
   "cell_type": "code",
   "execution_count": null,
   "metadata": {},
   "outputs": [],
   "source": []
  },
  {
   "cell_type": "code",
   "execution_count": null,
   "metadata": {},
   "outputs": [],
   "source": [
    "soup1.find(\"p\",attrs={\"class\":\"unf-prop-list-title\"}).text == \"Cas Hızı\":"
   ]
  },
  {
   "cell_type": "code",
   "execution_count": null,
   "metadata": {},
   "outputs": [],
   "source": [
    "\n",
    "print(x)"
   ]
  },
  {
   "cell_type": "code",
   "execution_count": null,
   "metadata": {},
   "outputs": [],
   "source": [
    " "
   ]
  },
  {
   "cell_type": "code",
   "execution_count": null,
   "metadata": {},
   "outputs": [],
   "source": []
  },
  {
   "cell_type": "code",
   "execution_count": null,
   "metadata": {},
   "outputs": [],
   "source": []
  },
  {
   "cell_type": "code",
   "execution_count": null,
   "metadata": {},
   "outputs": [],
   "source": []
  },
  {
   "cell_type": "code",
   "execution_count": null,
   "metadata": {},
   "outputs": [],
   "source": []
  },
  {
   "cell_type": "code",
   "execution_count": null,
   "metadata": {},
   "outputs": [],
   "source": []
  },
  {
   "cell_type": "code",
   "execution_count": null,
   "metadata": {},
   "outputs": [],
   "source": []
  },
  {
   "cell_type": "code",
   "execution_count": null,
   "metadata": {},
   "outputs": [],
   "source": []
  },
  {
   "cell_type": "code",
   "execution_count": null,
   "metadata": {},
   "outputs": [],
   "source": []
  },
  {
   "cell_type": "code",
   "execution_count": null,
   "metadata": {},
   "outputs": [],
   "source": []
  },
  {
   "cell_type": "code",
   "execution_count": null,
   "metadata": {},
   "outputs": [],
   "source": []
  },
  {
   "cell_type": "code",
   "execution_count": null,
   "metadata": {},
   "outputs": [],
   "source": []
  },
  {
   "cell_type": "code",
   "execution_count": null,
   "metadata": {},
   "outputs": [],
   "source": []
  },
  {
   "cell_type": "code",
   "execution_count": null,
   "metadata": {},
   "outputs": [],
   "source": []
  },
  {
   "cell_type": "code",
   "execution_count": null,
   "metadata": {},
   "outputs": [],
   "source": []
  },
  {
   "cell_type": "code",
   "execution_count": null,
   "metadata": {},
   "outputs": [],
   "source": []
  },
  {
   "cell_type": "code",
   "execution_count": null,
   "metadata": {},
   "outputs": [],
   "source": []
  },
  {
   "cell_type": "code",
   "execution_count": null,
   "metadata": {},
   "outputs": [],
   "source": []
  },
  {
   "cell_type": "code",
   "execution_count": null,
   "metadata": {},
   "outputs": [],
   "source": []
  },
  {
   "cell_type": "code",
   "execution_count": null,
   "metadata": {},
   "outputs": [],
   "source": []
  },
  {
   "cell_type": "code",
   "execution_count": null,
   "metadata": {},
   "outputs": [],
   "source": []
  },
  {
   "cell_type": "code",
   "execution_count": null,
   "metadata": {},
   "outputs": [],
   "source": []
  },
  {
   "cell_type": "code",
   "execution_count": null,
   "metadata": {},
   "outputs": [],
   "source": []
  },
  {
   "cell_type": "code",
   "execution_count": null,
   "metadata": {},
   "outputs": [],
   "source": []
  },
  {
   "cell_type": "code",
   "execution_count": null,
   "metadata": {},
   "outputs": [],
   "source": []
  },
  {
   "cell_type": "code",
   "execution_count": null,
   "metadata": {},
   "outputs": [],
   "source": []
  },
  {
   "cell_type": "code",
   "execution_count": null,
   "metadata": {},
   "outputs": [],
   "source": []
  },
  {
   "cell_type": "code",
   "execution_count": null,
   "metadata": {},
   "outputs": [],
   "source": []
  },
  {
   "cell_type": "code",
   "execution_count": null,
   "metadata": {},
   "outputs": [],
   "source": []
  },
  {
   "cell_type": "code",
   "execution_count": null,
   "metadata": {},
   "outputs": [],
   "source": []
  },
  {
   "cell_type": "code",
   "execution_count": null,
   "metadata": {},
   "outputs": [],
   "source": []
  },
  {
   "cell_type": "code",
   "execution_count": null,
   "metadata": {},
   "outputs": [],
   "source": []
  },
  {
   "cell_type": "code",
   "execution_count": null,
   "metadata": {},
   "outputs": [],
   "source": []
  },
  {
   "cell_type": "code",
   "execution_count": null,
   "metadata": {},
   "outputs": [],
   "source": []
  },
  {
   "cell_type": "code",
   "execution_count": null,
   "metadata": {},
   "outputs": [],
   "source": []
  },
  {
   "cell_type": "code",
   "execution_count": null,
   "metadata": {},
   "outputs": [],
   "source": []
  },
  {
   "cell_type": "code",
   "execution_count": null,
   "metadata": {},
   "outputs": [],
   "source": []
  },
  {
   "cell_type": "code",
   "execution_count": null,
   "metadata": {},
   "outputs": [],
   "source": []
  },
  {
   "cell_type": "code",
   "execution_count": null,
   "metadata": {},
   "outputs": [],
   "source": []
  },
  {
   "cell_type": "code",
   "execution_count": null,
   "metadata": {},
   "outputs": [],
   "source": []
  },
  {
   "cell_type": "code",
   "execution_count": null,
   "metadata": {},
   "outputs": [],
   "source": []
  },
  {
   "cell_type": "code",
   "execution_count": null,
   "metadata": {},
   "outputs": [],
   "source": []
  },
  {
   "cell_type": "code",
   "execution_count": null,
   "metadata": {},
   "outputs": [],
   "source": []
  },
  {
   "cell_type": "code",
   "execution_count": null,
   "metadata": {},
   "outputs": [],
   "source": []
  },
  {
   "cell_type": "code",
   "execution_count": null,
   "metadata": {},
   "outputs": [],
   "source": []
  },
  {
   "cell_type": "code",
   "execution_count": null,
   "metadata": {},
   "outputs": [],
   "source": []
  },
  {
   "cell_type": "code",
   "execution_count": null,
   "metadata": {},
   "outputs": [],
   "source": []
  },
  {
   "cell_type": "code",
   "execution_count": null,
   "metadata": {},
   "outputs": [],
   "source": []
  },
  {
   "cell_type": "code",
   "execution_count": null,
   "metadata": {},
   "outputs": [],
   "source": []
  },
  {
   "cell_type": "code",
   "execution_count": null,
   "metadata": {},
   "outputs": [],
   "source": []
  },
  {
   "cell_type": "code",
   "execution_count": null,
   "metadata": {},
   "outputs": [],
   "source": []
  },
  {
   "cell_type": "code",
   "execution_count": null,
   "metadata": {},
   "outputs": [],
   "source": []
  },
  {
   "cell_type": "code",
   "execution_count": null,
   "metadata": {},
   "outputs": [],
   "source": []
  }
 ],
 "metadata": {
  "kernelspec": {
   "display_name": "Python 3",
   "language": "python",
   "name": "python3"
  },
  "language_info": {
   "codemirror_mode": {
    "name": "ipython",
    "version": 3
   },
   "file_extension": ".py",
   "mimetype": "text/x-python",
   "name": "python",
   "nbconvert_exporter": "python",
   "pygments_lexer": "ipython3",
   "version": "3.8.5"
  }
 },
 "nbformat": 4,
 "nbformat_minor": 4
}
